{
  "nbformat": 4,
  "nbformat_minor": 0,
  "metadata": {
    "colab": {
      "provenance": []
    },
    "kernelspec": {
      "name": "python3",
      "display_name": "Python 3"
    },
    "language_info": {
      "name": "python"
    }
  },
  "cells": [
    {
      "cell_type": "code",
      "execution_count": null,
      "metadata": {
        "id": "j8XOUFTuljgA",
        "colab": {
          "base_uri": "https://localhost:8080/"
        },
        "outputId": "62de0440-9416-44be-f6f4-d15d1ac4d0ff"
      },
      "outputs": [
        {
          "output_type": "stream",
          "name": "stdout",
          "text": [
            "Drive already mounted at /content/drive; to attempt to forcibly remount, call drive.mount(\"/content/drive\", force_remount=True).\n"
          ]
        }
      ],
      "source": [
        "from google.colab import drive\n",
        "drive.mount('/content/drive')"
      ]
    },
    {
      "cell_type": "code",
      "source": [
        "import matplotlib.pyplot as plt\n",
        "import numpy as np\n",
        "import scipy as sp\n",
        "from sympy import symbols, diff\n",
        "import pandas as pd\n",
        "import csv"
      ],
      "metadata": {
        "id": "_MlNoLY7l5FN"
      },
      "execution_count": null,
      "outputs": []
    },
    {
      "cell_type": "code",
      "source": [
        "'''\n",
        "Defining measurements and uncertainties for L.\n",
        "'''\n",
        "\n",
        "#for c formula\n",
        "L_total=37.685 #maybe not even necessary.\n",
        "L_hallway=32.025\n",
        "u_L_h=0.105\n",
        "L_mirror=5.66\n",
        "u_L_m=0.02\n",
        "u_h_o=0.005\n",
        "\n",
        "#for focal length f\n",
        "L_focal_hallway=25.925\n",
        "u_L_fh=0.0425"
      ],
      "metadata": {
        "id": "FF6hPUQal7KZ"
      },
      "execution_count": null,
      "outputs": []
    },
    {
      "cell_type": "code",
      "source": [
        "'''\n",
        "Load data\n",
        "'''\n",
        "\n",
        "path=\"/content/drive/MyDrive/Lab Physics/Lab 3/Lab 3 Cleaned Fixed.csv\"\n",
        "\n",
        "def load_data(path):\n",
        "  data = np.genfromtxt(path, delimiter=\",\", skip_header=1)\n",
        "\n",
        "  delta_f_day1 = data[:, 0][~np.isnan(data[:, 0])]\n",
        "  d_day1 = data[:, 1][~np.isnan(data[:, 1])]\n",
        "  delta_f_day2 = data[:, 2][~np.isnan(data[:, 2])]\n",
        "  d_day2 = data[:, 3][~np.isnan(data[:, 3])]\n",
        "  h_i = data[:, 4][~np.isnan(data[:, 4])]\n",
        "  h_o = data[:, 5][~np.isnan(data[:, 5])]\n",
        "\n",
        "  return delta_f_day1, d_day1, delta_f_day2, d_day2, h_i, h_o\n",
        "\n",
        "delta_f_day1, d_day1, delta_f_day2, d_day2, h_i, h_o = load_data(path)\n",
        "\n",
        "delta_f_day1=np.array(delta_f_day1)\n",
        "d_day1=np.array(d_day1)\n",
        "delta_f_day2=np.array(delta_f_day2)\n",
        "d_day2=np.array(d_day2)\n",
        "h_i=np.array(h_i)\n",
        "h_o=np.array(h_o)\n",
        "\n",
        "print(f\"h_i: {h_i}, h_o: {h_o}\")"
      ],
      "metadata": {
        "colab": {
          "base_uri": "https://localhost:8080/"
        },
        "id": "wvXbL_ql1nih",
        "outputId": "42e895c7-1702-4d8a-ef72-943e566268a1"
      },
      "execution_count": null,
      "outputs": [
        {
          "output_type": "stream",
          "name": "stdout",
          "text": [
            "h_i: [0.00187641 0.00187641 0.00187641], h_o: [0.11 0.11 0.11]\n"
          ]
        }
      ]
    },
    {
      "cell_type": "code",
      "source": [
        "def find_focal_length(h_i, h_o):\n",
        "  M=[]\n",
        "  for i in range(3):\n",
        "    M_calc = h_i[i] / h_o[i]\n",
        "    M.append(M_calc)\n",
        "  M=np.array(M)\n",
        "\n",
        "  focal_length = (M * L_focal_hallway) / (1 + M)\n",
        "  return focal_length\n",
        "\n",
        "focal_length=find_focal_length(h_i, h_o)\n",
        "\n",
        "def u_focal_length(h_i, h_o, u_L_fh):\n",
        "  h_i1, h_o1, L_fh = symbols('h_i1 h_o1 L_fh', real = True)\n",
        "\n",
        "  M = h_i1 / h_o1\n",
        "  f = (M * L_fh) / (1 + M)\n",
        "\n",
        "  '''\n",
        "  Taking partials\n",
        "  '''\n",
        "  df_dh_i = diff(f, h_i1)\n",
        "  df_dh_o = diff(f, h_o1)\n",
        "  df_L_fh = diff(f, L_fh)\n",
        "\n",
        "\n",
        "  '''\n",
        "  Since h_i depends on what the individual making the measurement deems as \"the true value,\" I think it is reasonable to say that u is 10% of what value is recorded to be.\n",
        "  '''\n",
        "  u_h_i = 0.1 * h_i\n",
        "\n",
        "  '''\n",
        "  Substituting in values\n",
        "  '''\n",
        "  u_h_o = 0.005\n",
        "  L_focal_hallway = 25.925\n",
        "  u_f = []\n",
        "  for i in range(3):\n",
        "    df_dh_i_value = float(df_dh_i.subs({h_i1:h_i[i], h_o1:h_o[i], L_fh: L_focal_hallway}).evalf())\n",
        "    df_dh_o_value = float(df_dh_o.subs({h_i1:h_i[i], h_o1:h_o[i], L_fh: L_focal_hallway}).evalf())\n",
        "    df_L_fh_value = float(df_L_fh.subs({h_i1:h_i[i], h_o1:h_o[i], L_fh: L_focal_hallway}).evalf())\n",
        "\n",
        "    u_f_value = np.sqrt((u_h_i[i])**2 * (df_dh_i_value)**2 + (u_h_o)**2 * (df_dh_o_value)**2 + (u_L_fh)**2 * (df_L_fh_value)**2)\n",
        "    u_f.append(u_f_value)\n",
        "  u_f = np.array(u_f)\n",
        "  return u_f\n",
        "\n",
        "u_f = u_focal_length(h_i, h_o, u_L_fh)\n",
        "print(f\"The values of uncertainty for the focal length f: {u_f}\")\n",
        "print()\n",
        "\n",
        "print(f\"The calculated values of the focal length f with the associated uncertainty values are:\")\n",
        "for i in range(3):\n",
        "  print(f\"{focal_length[i]}m ± {u_f[i]}m\")\n",
        "\n",
        "'''\n",
        "The equalness of the results may seem weird, but during our data collection, I and Dylan took turn recording data and we had the same measurements,\n",
        "so this is expected. We can then claim that the weighted average will be identical.\n",
        "'''\n",
        "print()\n",
        "print(f\"Therefore our final measurement of the focal length f is (0.43±0.05)m\")\n",
        "print()\n",
        "\n",
        "'''\n",
        "As a way of justifying the focal length value, I will do a percent error comparison with the focal length in the user manual.\n",
        "'''\n",
        "\n",
        "actual_focal_length = 0.445\n",
        "focal_length = 0.43\n",
        "u_f = 0.05\n",
        "\n",
        "\n",
        "def percent_error_f():\n",
        "  percent_error_f = np.abs((focal_length - actual_focal_length) / actual_focal_length) * 100\n",
        "  return percent_error_f\n",
        "\n",
        "percent_error_f = percent_error_f()\n",
        "print(f\"The percent error present in the focal length value is\")\n",
        "print(f\"{percent_error_f}%\")"
      ],
      "metadata": {
        "colab": {
          "base_uri": "https://localhost:8080/"
        },
        "id": "PDXnMfrt5Wtb",
        "outputId": "cfcb85a9-7744-455f-f92e-701774c961fd"
      },
      "execution_count": null,
      "outputs": [
        {
          "output_type": "stream",
          "name": "stdout",
          "text": [
            "The values of uncertainty for the focal length f: [0.04696727 0.04696727 0.04696727]\n",
            "\n",
            "The calculated values of the focal length f with the associated uncertainty values are:\n",
            "0.434817854398073m ± 0.04696726900298215m\n",
            "0.434817854398073m ± 0.04696726900298215m\n",
            "0.434817854398073m ± 0.04696726900298215m\n",
            "\n",
            "Therefore our final measurement of the focal length f is (0.43±0.05)m\n",
            "\n",
            "The percent error present in the focal length value is\n",
            "3.3707865168539355%\n"
          ]
        }
      ]
    },
    {
      "cell_type": "code",
      "source": [
        "'''\n",
        "Since the weighted average calculation does not make a difference in the final measurement for focal length f,\n",
        "I will define f and u_f as the final measurement above.\n",
        "'''\n",
        "focal_length = 0.43\n",
        "u_f = 0.05\n",
        "\n",
        "def find_c(delta_f_day1, delta_f_day2):\n",
        "  c_day1 = []\n",
        "  c_day2 = []\n",
        "\n",
        "  for i in range(len(delta_f_day1)):\n",
        "    c_day1_value = (4 * (L_hallway + L_mirror) * focal_length * delta_f_day1[i]) / d_day1[i]\n",
        "    c_day1.append(c_day1_value)\n",
        "\n",
        "  for i in range(len(delta_f_day2)):\n",
        "    c_day2_value = (4 * (L_hallway + L_hallway + L_mirror) * focal_length * delta_f_day2[i]) / d_day2[i]\n",
        "    c_day2.append(c_day2_value)\n",
        "\n",
        "  c_day1 = np.array(c_day1)\n",
        "  c_day2 = np.array(c_day2)\n",
        "\n",
        "  return c_day1, c_day2\n",
        "\n",
        "c_day1, c_day2 = find_c(delta_f_day1, delta_f_day2)\n",
        "\n",
        "#print(len(delta_f_day1))\n",
        "#print(len(delta_f_day2))\n",
        "#print(len(d_day1))\n",
        "#print(len(d_day2))\n",
        "\n",
        "print(f\"Calculated values of c for day 1: {c_day1}\")\n",
        "print(f\"Calculated values of c for day 2: {c_day2}\")\n",
        "print()\n",
        "\n",
        "'''\n",
        "Before calculating for the uncertainty values for c, we need to first define the uncertainty values for the uncertainty in w (delta_f_day_1, delta_f_day_2) and d (d_day1, d_day2).\n",
        "\n",
        "Necessary for uncertainty propagation formula.\n",
        "\n",
        "I think a 10% error statement is fairly consistent with what was seen in the lab, for for w and d.\n",
        "'''\n",
        "u_w_1 = 0.1 * delta_f_day1\n",
        "u_w_2 = 0.1 * delta_f_day2\n",
        "\n",
        "u_d_1 = 0.1 * d_day1\n",
        "u_d_2 = 0.1 * d_day2\n",
        "\n",
        "'''\n",
        "Propagation-based uncertainty analysis function.\n",
        "'''\n",
        "def u_c(c_day1, c_day2):\n",
        "  L_hallway1, L_mirror1, focal_length1, delta_f_day1_1, d_day1_1, delta_f_day2_1, d_day2_1 = symbols('L_hallway1 L_mirror1 focal_length1 delta_f_day1_1 d_day1_1 delta_f_day2_1 d_day2_1', real = True)\n",
        "\n",
        "  c_day1_value = (4 * (L_hallway1 + L_mirror1) * focal_length1 * delta_f_day1_1) / d_day1_1\n",
        "  c_day2_value = (4 * (L_hallway1 + L_hallway1 + L_mirror1) * focal_length1 * delta_f_day2_1) / d_day2_1\n",
        "\n",
        "  '''\n",
        "  Taking partials for day 1\n",
        "  '''\n",
        "  dc1_d_L_hallway = diff(c_day1_value, L_hallway1)\n",
        "  dc1_d_L_mirror = diff(c_day1_value, L_mirror1)\n",
        "  dc1_d_focal_length = diff(c_day1_value, focal_length1)\n",
        "  dc1_d_delta_f_day1 = diff(c_day1_value, delta_f_day1_1)\n",
        "  dc1_d_day1 = diff(c_day1_value, d_day1_1)\n",
        "\n",
        "  u_c1 = []\n",
        "\n",
        "  for i in range(10): #10 because 10 values\n",
        "    dc1_d_L_hallway_value = float(dc1_d_L_hallway.subs({L_hallway1:L_hallway, L_mirror1:L_mirror, focal_length1:focal_length, delta_f_day1_1:delta_f_day1[i], d_day1_1:d_day1[i]}).evalf())\n",
        "    dc1_d_L_mirror_value = float(dc1_d_L_mirror.subs({L_hallway1:L_hallway, L_mirror1:L_mirror, focal_length1:focal_length, delta_f_day1_1:delta_f_day1[i], d_day1_1:d_day1[i]}).evalf())\n",
        "    dc1_d_focal_length_value = float(dc1_d_focal_length.subs({L_hallway1:L_hallway, L_mirror1:L_mirror, focal_length1:focal_length, delta_f_day1_1:delta_f_day1[i], d_day1_1:d_day1[i]}).evalf())\n",
        "    dc1_d_delta_f_day1_value = float(dc1_d_delta_f_day1.subs({L_hallway1:L_hallway, L_mirror1:L_mirror, focal_length1:focal_length, delta_f_day1_1:delta_f_day1[i], d_day1_1:d_day1[i]}).evalf())\n",
        "    dc1_d_day1_value = float(dc1_d_day1.subs({L_hallway1:L_hallway, L_mirror1:L_mirror, focal_length1:focal_length, delta_f_day1_1:delta_f_day1[i], d_day1_1:d_day1[i]}).evalf())\n",
        "\n",
        "    u_c1_value = np.sqrt((u_L_h)**2 * (dc1_d_L_hallway_value)**2 + (u_L_m)**2 * (dc1_d_L_mirror_value)**2 + (u_f)**2 * (dc1_d_focal_length_value)**2 + (u_w_1[i])**2 * (dc1_d_delta_f_day1_value)**2 + (u_d_1[i])**2 * (dc1_d_day1_value)**2)\n",
        "    u_c1.append(u_c1_value)\n",
        "  u_c1 = np.array(u_c1)\n",
        "\n",
        "  '''\n",
        "  Taking partials for day 2\n",
        "  '''\n",
        "  dc2_d_L_hallway = diff(c_day2_value, L_hallway1)\n",
        "  dc2_d_L_mirror = diff(c_day2_value, L_mirror1)\n",
        "  dc2_d_focal_length = diff(c_day2_value, focal_length1)\n",
        "  dc2_d_delta_f_day2 = diff(c_day2_value, delta_f_day2_1)\n",
        "  dc2_d_day2 = diff(c_day2_value, d_day2_1)\n",
        "\n",
        "  u_c2 = []\n",
        "\n",
        "  for i in range(4): #4 because 4 values\n",
        "    dc2_d_L_hallway_value = float(dc2_d_L_hallway.subs({L_hallway1: L_hallway, L_mirror1: L_mirror, focal_length1: focal_length, delta_f_day2_1: delta_f_day2[i], d_day2_1: d_day2[i]}).evalf())\n",
        "    dc2_d_L_mirror_value = float(dc2_d_L_mirror.subs({L_hallway1: L_hallway, L_mirror1: L_mirror, focal_length1: focal_length, delta_f_day2_1: delta_f_day2[i], d_day2_1: d_day2[i]}).evalf())\n",
        "    dc2_d_focal_length_value = float(dc2_d_focal_length.subs({L_hallway1: L_hallway, L_mirror1: L_mirror, focal_length1: focal_length, delta_f_day2_1: delta_f_day2[i], d_day2_1: d_day2[i]}).evalf())\n",
        "    dc2_d_delta_f_day2_value = float(dc2_d_delta_f_day2.subs({L_hallway1:L_hallway, L_mirror1:L_mirror, focal_length1:focal_length, delta_f_day2_1:delta_f_day2[i], d_day2_1:d_day2[i]}).evalf())\n",
        "    dc2_d_day2_value = float(dc2_d_day2.subs({L_hallway1:L_hallway, L_mirror1:L_mirror, focal_length1:focal_length, delta_f_day2_1:delta_f_day2[i], d_day2_1:d_day2[i]}).evalf())\n",
        "\n",
        "    u_c2_value = np.sqrt((u_L_h)**2 * (dc2_d_L_hallway_value)**2 + (u_L_m)**2 * (dc2_d_L_mirror_value)**2 + (u_f)**2 * (dc2_d_focal_length_value)**2 + (u_w_2[i])**2 * (dc2_d_delta_f_day2_value)**2 + (u_d_2[i])**2 * (dc2_d_day2_value)**2)\n",
        "    u_c2.append(u_c2_value)\n",
        "  u_c2 = np.array(u_c2)\n",
        "\n",
        "  return u_c1, u_c2\n",
        "\n",
        "u_c1, u_c2 = u_c(c_day1, c_day2)\n",
        "print(f\"Uncertainty values of c for day 1: {u_c1}\")\n",
        "print(f\"Uncertainty values of c for day 2: {u_c2}\")\n",
        "print()\n",
        "\n",
        "print(f\"The calculated c and its corresponding uncertainty values for day 1:\")\n",
        "for i in range(10):\n",
        "  print(f\"{c_day1[i]} ± {u_c1[i]}\")\n",
        "print()\n",
        "\n",
        "print(f\"The calculated c and its corresponding uncertainty values for day 2:\")\n",
        "for i in range(4):\n",
        "  print(f\"{c_day2[i]} ± {u_c2[i]}\")"
      ],
      "metadata": {
        "id": "7bmkl-ROQrGM",
        "colab": {
          "base_uri": "https://localhost:8080/"
        },
        "outputId": "f393f7c3-dad4-4d15-c083-83639bf55884"
      },
      "execution_count": null,
      "outputs": [
        {
          "output_type": "stream",
          "name": "stdout",
          "text": [
            "Calculated values of c for day 1: [3.08884868e+08 4.02551173e+08 4.02974906e+08 3.58630477e+08\n",
            " 2.86095916e+08 2.57301090e+08 3.20770910e+08 3.29103788e+08\n",
            " 3.16088363e+08 4.40673952e+08]\n",
            "Calculated values of c for day 2: [2.30439975e+08 4.28972877e+08 5.08432984e+08 2.83560313e+08]\n",
            "\n",
            "Uncertainty values of c for day 1: [56559566.4169334  73710699.94713217 73788289.29886508 65668429.94453692\n",
            " 52386706.61925557 47114117.94139585 58736006.41329771 60261830.51182872\n",
            " 57878590.51410524 80691319.73433276]\n",
            "Uncertainty values of c for day 2: [42196308.96791745 78550052.06691654 93100145.70745435 51923276.55396532]\n",
            "\n",
            "The calculated c and its corresponding uncertainty values for day 1:\n",
            "308884867.8260838 ± 56559566.4169334\n",
            "402551173.0889345 ± 73710699.94713217\n",
            "402974906.47610474 ± 73788289.29886508\n",
            "358630477.36681193 ± 65668429.944536924\n",
            "286095915.7757618 ± 52386706.619255565\n",
            "257301090.07189277 ± 47114117.94139585\n",
            "320770909.8026559 ± 58736006.413297705\n",
            "329103787.9496762 ± 60261830.51182872\n",
            "316088363.35698944 ± 57878590.51410524\n",
            "440673951.5490616 ± 80691319.73433276\n",
            "\n",
            "The calculated c and its corresponding uncertainty values for day 2:\n",
            "230439975.4186361 ± 42196308.96791745\n",
            "428972877.25320655 ± 78550052.06691654\n",
            "508432984.1410785 ± 93100145.70745435\n",
            "283560312.8664203 ± 51923276.553965315\n"
          ]
        }
      ]
    },
    {
      "cell_type": "code",
      "source": [
        "'''\n",
        "Weighted average calculations for day 1 and day 2.\n",
        "'''\n",
        "def calculate_weighted_average(c_day1, c_day2, u_c1, u_c2):\n",
        "  weight1 = 1 / u_c1**2\n",
        "  c1_mean = np.sum(c_day1 * weight1) / np.sum(weight1)\n",
        "  u1 = np.sqrt(1 / np.sum(weight1))\n",
        "\n",
        "  weight2 = 1 / u_c2**2\n",
        "  c2_mean = np.sum(c_day2 * weight2) / np.sum(weight2)\n",
        "  u2 = np.sqrt(1 / np.sum(weight2))\n",
        "\n",
        "  return c1_mean, u1, c2_mean, u2\n",
        "\n",
        "c1_mean, u1, c2_mean, u2 = calculate_weighted_average(c_day1, c_day2, u_c1, u_c2)\n",
        "\n",
        "print(f\"The weighted average output of the calculation of c from day 1 and day 2 with their associated uncertainty values, and units m/s:\")\n",
        "print(f\"Day 1: {c1_mean} ± {u1}\")\n",
        "print(f\"Day 2: {c2_mean} ± {u2}\")\n",
        "print()\n",
        "\n",
        "'''\n",
        "We now take the final weighted average to reach our final presented value for the speed of light c and its uncertainty.\n",
        "\n",
        "I will make two separate arrays that include the c values from day 1 and 2 and their associated uncertainty values.\n",
        "'''\n",
        "c_final = [c1_mean, c2_mean]\n",
        "u_final = [u1, u2]\n",
        "c_final = np.array(c_final)\n",
        "u_final = np.array(u_final)\n",
        "\n",
        "def final_weighted_average(c_final, u_final):\n",
        "  weight = 1 / u_final**2\n",
        "  mean = np.sum(c_final * weight) / np.sum(weight)\n",
        "  u = np.sqrt(1 / np.sum(weight))\n",
        "\n",
        "  return mean, u\n",
        "\n",
        "mean, u = final_weighted_average(c_final, u_final)\n",
        "\n",
        "print(f\"Therefore, our final presented value of c and its uncertainty is, with units m/s\")\n",
        "print(f\"{mean} ± {u}\")\n",
        "print()"
      ],
      "metadata": {
        "colab": {
          "base_uri": "https://localhost:8080/"
        },
        "id": "szvowflLhcay",
        "outputId": "e9bbe6c0-d1e5-4d97-8571-ce5841b3479c"
      },
      "execution_count": null,
      "outputs": [
        {
          "output_type": "stream",
          "name": "stdout",
          "text": [
            "The weighted average output of the calculation of c from day 1 and day 2 with their associated uncertainty values, and units m/s:\n",
            "Day 1: 325616080.4806656 ± 19088619.992185187\n",
            "Day 2: 299822561.2490548 ± 28748090.86584095\n",
            "\n",
            "Therefore, our final presented value of c and its uncertainty is, with units m/s\n",
            "317723653.43813795 ± 15902265.3707646\n",
            "\n"
          ]
        }
      ]
    },
    {
      "cell_type": "code",
      "source": [
        "'''\n",
        "We need to calculate the percent error now.\n",
        "\n",
        "From wikpedia:\n",
        "299792458 m/s\n",
        "'''\n",
        "c_actual = 299792458\n",
        "\n",
        "def calculate_percent_error(mean):\n",
        "  percent_error = np.abs((mean - c_actual) / c_actual) * 100\n",
        "  return percent_error\n",
        "\n",
        "percent_error = calculate_percent_error(mean)\n",
        "print(f\"The percent error compared to the actual value of c is\")\n",
        "print(f\"{percent_error}%\")\n",
        "\n",
        "'''\n",
        "We can now plot the error bar graph to better visualize our measurements of c from day 1 and day 2 compared to the actual value of c.\n",
        "'''\n",
        "\n",
        "x_axis_1 = np.arange(0, 10, step=1)\n",
        "y1=c_day1\n",
        "y1_1=u_c1\n",
        "\n",
        "x_axis_2 = np.arange(10, 14, step=1)\n",
        "y2=c_day2\n",
        "y2_2=u_c2\n",
        "\n",
        "fig=plt.figure()\n",
        "plt.errorbar(x_axis_1, y1, yerr = y1_1, linestyle = \"-\", marker = \"o\", markersize = 3, c = 'r', elinewidth = 1, capsize = 3, label = \"Day 1\")\n",
        "plt.errorbar(x_axis_2, y2, yerr = y2_2, linestyle = \"-\", marker = \"o\", markersize = 3, c = 'b', elinewidth = 1, capsize = 3, label = \"Day 2\")\n",
        "plt.axhline(y = c_actual, color = 'g', linestyle = \"--\", label = \"Accepted c value\")\n",
        "plt.title(\"Uncertainty Graph for Day 1 and Day 2\", fontsize = 14)\n",
        "plt.xlabel(\"N\", fontsize = 12)\n",
        "plt.ylabel(\"c ± u (m/s)\", fontsize = 12)\n",
        "plt.legend(fontsize = 12)\n",
        "plt.grid()"
      ],
      "metadata": {
        "colab": {
          "base_uri": "https://localhost:8080/",
          "height": 512
        },
        "id": "NyvV5tebmitD",
        "outputId": "b5d45eae-a790-4d61-960d-ff3c4e0d7027"
      },
      "execution_count": null,
      "outputs": [
        {
          "output_type": "stream",
          "name": "stdout",
          "text": [
            "The percent error compared to the actual value of c is\n",
            "5.981202982143716%\n"
          ]
        },
        {
          "output_type": "display_data",
          "data": {
            "text/plain": [
              "<Figure size 640x480 with 1 Axes>"
            ],
            "image/png": "[encoded data removed]"
          },
          "metadata": {}
        }
      ]
    }
  ]
}